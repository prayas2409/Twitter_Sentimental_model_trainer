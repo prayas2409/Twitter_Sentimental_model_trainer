{
 "cells": [
  {
   "cell_type": "code",
   "execution_count": 1,
   "metadata": {},
   "outputs": [
    {
     "data": {
      "text/plain": [
       "\u001b[32mimport \u001b[39m\u001b[36m$ivy.$                            \u001b[39m"
      ]
     },
     "execution_count": 1,
     "metadata": {},
     "output_type": "execute_result"
    }
   ],
   "source": [
    "import $ivy.`org.vegas-viz::vegas:0.3.11`"
   ]
  },
  {
   "cell_type": "code",
   "execution_count": 2,
   "metadata": {},
   "outputs": [
    {
     "data": {
      "text/plain": [
       "\u001b[32mimport \u001b[39m\u001b[36m$ivy.$                                  \u001b[39m"
      ]
     },
     "execution_count": 2,
     "metadata": {},
     "output_type": "execute_result"
    }
   ],
   "source": [
    "import $ivy.`org.vegas-viz::vegas-spark:0.3.11`"
   ]
  },
  {
   "cell_type": "code",
   "execution_count": 2,
   "metadata": {},
   "outputs": [],
   "source": [
    "// import $ivy.`org.vegas-viz::vegas:0.3.9`"
   ]
  },
  {
   "cell_type": "code",
   "execution_count": 3,
   "metadata": {},
   "outputs": [
    {
     "data": {
      "text/plain": [
       "\u001b[32mimport \u001b[39m\u001b[36m$ivy.$                                   \n",
       "\u001b[39m\n",
       "\u001b[32mimport \u001b[39m\u001b[36m$ivy.$                                  \u001b[39m"
      ]
     },
     "execution_count": 3,
     "metadata": {},
     "output_type": "execute_result"
    }
   ],
   "source": [
    "import $ivy.`org.apache.spark::spark-core:2.4.3`\n",
    "import $ivy.`org.apache.spark::spark-sql:2.4.3`"
   ]
  },
  {
   "cell_type": "code",
   "execution_count": 4,
   "metadata": {},
   "outputs": [
    {
     "data": {
      "text/plain": [
       "\u001b[32mimport \u001b[39m\u001b[36mvegas.data.External._\n",
       "\u001b[39m\n",
       "\u001b[32mimport \u001b[39m\u001b[36morg.apache.spark.sql._\n",
       "\u001b[39m\n",
       "\u001b[32mimport \u001b[39m\u001b[36mvegas._\n",
       "\u001b[39m\n",
       "\u001b[32mimport \u001b[39m\u001b[36mvegas.render.WindowRenderer._\n",
       "\u001b[39m\n",
       "\u001b[32mimport \u001b[39m\u001b[36mvegas.sparkExt._\u001b[39m"
      ]
     },
     "execution_count": 4,
     "metadata": {},
     "output_type": "execute_result"
    }
   ],
   "source": [
    "import vegas.data.External._\n",
    "import org.apache.spark.sql._\n",
    "import vegas._\n",
    "import vegas.render.WindowRenderer._\n",
    "import vegas.sparkExt._"
   ]
  },
  {
   "cell_type": "code",
   "execution_count": 5,
   "metadata": {},
   "outputs": [
    {
     "data": {
      "text/html": [
       "\n",
       "  <iframe id=\"frame-vegas-65347f6f-26d3-47d4-aeba-9e9c3c04803c\" sandbox=\"allow-scripts allow-same-origin\" style=\"border: none; width: 100%\" srcdoc=\"&lt;html&gt;\n",
       "  &lt;head&gt;\n",
       "    &lt;script src=&quot;https://cdn.jsdelivr.net/webjars/org.webjars.bower/d3/3.5.17/d3.min.js&quot; charset=&quot;utf-8&quot;&gt;&lt;/script&gt;\n",
       "&lt;script src=&quot;https://cdn.jsdelivr.net/webjars/org.webjars.bower/vega/2.6.3/vega.min.js&quot; charset=&quot;utf-8&quot;&gt;&lt;/script&gt;\n",
       "&lt;script src=&quot;https://cdn.jsdelivr.net/webjars/org.webjars.bower/vega-lite/1.2.0/vega-lite.min.js&quot; charset=&quot;utf-8&quot;&gt;&lt;/script&gt;\n",
       "&lt;script src=&quot;https://vega.github.io/vega-editor/vendor/vega-embed.js&quot; charset=&quot;utf-8&quot;&gt;&lt;/script&gt;\n",
       "  &lt;/head&gt;\n",
       "  &lt;body&gt;\n",
       " &lt;div id='vegas-65347f6f-26d3-47d4-aeba-9e9c3c04803c'&gt;&lt;/div&gt;\n",
       " &lt;script&gt;\n",
       "   var embedSpec = {\n",
       "     mode: &quot;vega-lite&quot;,\n",
       "     spec: {\n",
       "  &quot;mark&quot; : &quot;bar&quot;,\n",
       "  &quot;encoding&quot; : {\n",
       "    &quot;x&quot; : {\n",
       "      &quot;field&quot; : &quot;country&quot;,\n",
       "      &quot;type&quot; : &quot;nominal&quot;\n",
       "    },\n",
       "    &quot;y&quot; : {\n",
       "      &quot;field&quot; : &quot;population&quot;,\n",
       "      &quot;type&quot; : &quot;quantitative&quot;\n",
       "    }\n",
       "  },\n",
       "  &quot;description&quot; : &quot;Country Pop&quot;,\n",
       "  &quot;data&quot; : {\n",
       "    &quot;values&quot; : [\n",
       "      {\n",
       "        &quot;country&quot; : &quot;USA&quot;,\n",
       "        &quot;population&quot; : 314\n",
       "      },\n",
       "      {\n",
       "        &quot;country&quot; : &quot;UK&quot;,\n",
       "        &quot;population&quot; : 64\n",
       "      },\n",
       "      {\n",
       "        &quot;country&quot; : &quot;DK&quot;,\n",
       "        &quot;population&quot; : 80\n",
       "      }\n",
       "    ]\n",
       "  }\n",
       "}\n",
       "   }\n",
       "   vg.embed(&quot;#vegas-65347f6f-26d3-47d4-aeba-9e9c3c04803c&quot;, embedSpec, function(error, result) {});\n",
       " &lt;/script&gt;\n",
       "\n",
       "    &lt;/body&gt;\n",
       "&lt;/html&gt;\"></iframe>\n",
       "  <script>\n",
       "    (function() {\n",
       "      function resizeIFrame(el, k) {\n",
       "        var height = el.contentWindow.document.body.scrollHeight || '400'; // Fallback in case of no scroll height\n",
       "        el.style.height = height + 'px';\n",
       "        if (k <= 10) { setTimeout(function() { resizeIFrame(el, k+1) }, 1000 + (k * 250)) };\n",
       "      }\n",
       "      resizeIFrame(document.querySelector('#frame-vegas-65347f6f-26d3-47d4-aeba-9e9c3c04803c'), 1);\n",
       "    })(); // IIFE\n",
       "  </script>\n",
       "    "
      ]
     },
     "metadata": {},
     "output_type": "display_data"
    },
    {
     "data": {
      "text/plain": [
       "\u001b[36mplot\u001b[39m: \u001b[32mDSL\u001b[39m.\u001b[32mExtendedUnitSpecBuilder\u001b[39m = \u001b[33mExtendedUnitSpecBuilder\u001b[39m(\n",
       "  \u001b[33mExtendedUnitSpec\u001b[39m(\n",
       "    \u001b[32mNone\u001b[39m,\n",
       "    \u001b[32mNone\u001b[39m,\n",
       "    Bar,\n",
       "    \u001b[33mSome\u001b[39m(\n",
       "      \u001b[33mEncoding\u001b[39m(\n",
       "        \u001b[32mNone\u001b[39m,\n",
       "        \u001b[32mNone\u001b[39m,\n",
       "        \u001b[33mSome\u001b[39m(\n",
       "          \u001b[33mPositionChannelDef\u001b[39m(\n",
       "            \u001b[32mNone\u001b[39m,\n",
       "            \u001b[32mNone\u001b[39m,\n",
       "            \u001b[32mNone\u001b[39m,\n",
       "            \u001b[33mSome\u001b[39m(\u001b[32m\"country\"\u001b[39m),\n",
       "            \u001b[33mSome\u001b[39m(Nominal),\n",
       "            \u001b[32mNone\u001b[39m,\n",
       "            \u001b[32mNone\u001b[39m,\n",
       "            \u001b[32mNone\u001b[39m,\n",
       "            \u001b[32mNone\u001b[39m,\n",
       "            \u001b[32mNone\u001b[39m\n",
       "          )\n",
       "        ),\n",
       "        \u001b[33mSome\u001b[39m(\n",
       "          \u001b[33mPositionChannelDef\u001b[39m(\n",
       "            \u001b[32mNone\u001b[39m,\n",
       "            \u001b[32mNone\u001b[39m,\n",
       "            \u001b[32mNone\u001b[39m,\n",
       "            \u001b[33mSome\u001b[39m(\u001b[32m\"population\"\u001b[39m),\n",
       "            \u001b[33mSome\u001b[39m(Quantitative),\n",
       "            \u001b[32mNone\u001b[39m,\n",
       "            \u001b[32mNone\u001b[39m,\n",
       "            \u001b[32mNone\u001b[39m,\n",
       "            \u001b[32mNone\u001b[39m,\n",
       "            \u001b[32mNone\u001b[39m\n",
       "          )\n",
       "        ),\n",
       "        \u001b[32mNone\u001b[39m,\n",
       "        \u001b[32mNone\u001b[39m,\n",
       "..."
      ]
     },
     "execution_count": 5,
     "metadata": {},
     "output_type": "execute_result"
    }
   ],
   "source": [
    "val plot = Vegas(\"Country Pop\").\n",
    "  withData(\n",
    "    Seq(\n",
    "      Map(\"country\" -> \"USA\", \"population\" -> 314),\n",
    "      Map(\"country\" -> \"UK\", \"population\" -> 64),\n",
    "      Map(\"country\" -> \"DK\", \"population\" -> 80)\n",
    "    )\n",
    "  ).\n",
    "  encodeX(\"country\", Nom).\n",
    "  encodeY(\"population\", Quant).\n",
    "  mark(Bar)\n",
    "\n",
    "plot.show"
   ]
  },
  {
   "cell_type": "code",
   "execution_count": 13,
   "metadata": {},
   "outputs": [
    {
     "data": {
      "text/plain": [
       "\u001b[32mimport \u001b[39m\u001b[36morg.apache.log4j.{Level, Logger}\n",
       "\n",
       "\u001b[39m"
      ]
     },
     "execution_count": 13,
     "metadata": {},
     "output_type": "execute_result"
    }
   ],
   "source": [
    "import org.apache.log4j.{Level, Logger}\n",
    "\n",
    "Logger.getLogger(\"org\").setLevel(Level.OFF)"
   ]
  },
  {
   "cell_type": "code",
   "execution_count": 12,
   "metadata": {},
   "outputs": [
    {
     "data": {
      "text/html": [
       "\n",
       "  <iframe id=\"frame-vegas-ecce7f67-194e-419c-bb10-c3929024c812\" sandbox=\"allow-scripts allow-same-origin\" style=\"border: none; width: 100%\" srcdoc=\"&lt;html&gt;\n",
       "  &lt;head&gt;\n",
       "    &lt;script src=&quot;https://cdn.jsdelivr.net/webjars/org.webjars.bower/d3/3.5.17/d3.min.js&quot; charset=&quot;utf-8&quot;&gt;&lt;/script&gt;\n",
       "&lt;script src=&quot;https://cdn.jsdelivr.net/webjars/org.webjars.bower/vega/2.6.3/vega.min.js&quot; charset=&quot;utf-8&quot;&gt;&lt;/script&gt;\n",
       "&lt;script src=&quot;https://cdn.jsdelivr.net/webjars/org.webjars.bower/vega-lite/1.2.0/vega-lite.min.js&quot; charset=&quot;utf-8&quot;&gt;&lt;/script&gt;\n",
       "&lt;script src=&quot;https://vega.github.io/vega-editor/vendor/vega-embed.js&quot; charset=&quot;utf-8&quot;&gt;&lt;/script&gt;\n",
       "  &lt;/head&gt;\n",
       "  &lt;body&gt;\n",
       " &lt;div id='vegas-ecce7f67-194e-419c-bb10-c3929024c812'&gt;&lt;/div&gt;\n",
       " &lt;script&gt;\n",
       "   var embedSpec = {\n",
       "     mode: &quot;vega-lite&quot;,\n",
       "     spec: {\n",
       "  &quot;width&quot; : 400.0,\n",
       "  &quot;height&quot; : 300.0,\n",
       "  &quot;mark&quot; : &quot;area&quot;,\n",
       "  &quot;encoding&quot; : {\n",
       "    &quot;x&quot; : {\n",
       "      &quot;field&quot; : &quot;date&quot;,\n",
       "      &quot;type&quot; : &quot;ordinal&quot;\n",
       "    },\n",
       "    &quot;y&quot; : {\n",
       "      &quot;field&quot; : &quot;open&quot;,\n",
       "      &quot;type&quot; : &quot;quantitative&quot;\n",
       "    }\n",
       "  },\n",
       "  &quot;description&quot; : &quot;dataframe predictions&quot;,\n",
       "  &quot;data&quot; : {\n",
       "    &quot;format&quot; : {\n",
       "      &quot;type&quot; : &quot;csv&quot;\n",
       "    },\n",
       "    &quot;url&quot; : &quot;https://raw.githubusercontent.com/prayas2409/Stockpricepython/master/Data/df1.csv&quot;\n",
       "  }\n",
       "}\n",
       "   }\n",
       "   vg.embed(&quot;#vegas-ecce7f67-194e-419c-bb10-c3929024c812&quot;, embedSpec, function(error, result) {});\n",
       " &lt;/script&gt;\n",
       "\n",
       "    &lt;/body&gt;\n",
       "&lt;/html&gt;\"></iframe>\n",
       "  <script>\n",
       "    (function() {\n",
       "      function resizeIFrame(el, k) {\n",
       "        var height = el.contentWindow.document.body.scrollHeight || '400'; // Fallback in case of no scroll height\n",
       "        el.style.height = height + 'px';\n",
       "        if (k <= 10) { setTimeout(function() { resizeIFrame(el, k+1) }, 1000 + (k * 250)) };\n",
       "      }\n",
       "      resizeIFrame(document.querySelector('#frame-vegas-ecce7f67-194e-419c-bb10-c3929024c812'), 1);\n",
       "    })(); // IIFE\n",
       "  </script>\n",
       "    "
      ]
     },
     "metadata": {},
     "output_type": "display_data"
    }
   ],
   "source": [
    "Vegas(\"dataframe predictions\", width=400, height=300)\n",
    ".withURL(\"https://raw.githubusercontent.com/prayas2409/Stockpricepython/master/Data/df1.csv\",formatType=DataFormat.Csv)\n",
    ".mark(Area)\n",
    ".encodeX(\"date\", Ordinal)\n",
    ".encodeY(\"open\", Quantitative)\n",
    ".show"
   ]
  },
  {
   "cell_type": "code",
   "execution_count": 17,
   "metadata": {},
   "outputs": [
    {
     "data": {
      "text/html": [
       "\n",
       "  <iframe id=\"frame-vegas-ab4645fe-b470-4bf0-8d58-c95f70b8759d\" sandbox=\"allow-scripts allow-same-origin\" style=\"border: none; width: 100%\" srcdoc=\"&lt;html&gt;\n",
       "  &lt;head&gt;\n",
       "    &lt;script src=&quot;https://cdn.jsdelivr.net/webjars/org.webjars.bower/d3/3.5.17/d3.min.js&quot; charset=&quot;utf-8&quot;&gt;&lt;/script&gt;\n",
       "&lt;script src=&quot;https://cdn.jsdelivr.net/webjars/org.webjars.bower/vega/2.6.3/vega.min.js&quot; charset=&quot;utf-8&quot;&gt;&lt;/script&gt;\n",
       "&lt;script src=&quot;https://cdn.jsdelivr.net/webjars/org.webjars.bower/vega-lite/1.2.0/vega-lite.min.js&quot; charset=&quot;utf-8&quot;&gt;&lt;/script&gt;\n",
       "&lt;script src=&quot;https://vega.github.io/vega-editor/vendor/vega-embed.js&quot; charset=&quot;utf-8&quot;&gt;&lt;/script&gt;\n",
       "  &lt;/head&gt;\n",
       "  &lt;body&gt;\n",
       " &lt;div id='vegas-ab4645fe-b470-4bf0-8d58-c95f70b8759d'&gt;&lt;/div&gt;\n",
       " &lt;script&gt;\n",
       "   var embedSpec = {\n",
       "     mode: &quot;vega-lite&quot;,\n",
       "     spec: {\n",
       "  &quot;width&quot; : 400.0,\n",
       "  &quot;height&quot; : 300.0,\n",
       "  &quot;mark&quot; : &quot;bar&quot;,\n",
       "  &quot;encoding&quot; : {\n",
       "    &quot;x&quot; : {\n",
       "      &quot;field&quot; : &quot;year&quot;,\n",
       "      &quot;type&quot; : &quot;ordinal&quot;\n",
       "    },\n",
       "    &quot;y&quot; : {\n",
       "      &quot;field&quot; : &quot;age&quot;,\n",
       "      &quot;type&quot; : &quot;quantitative&quot;\n",
       "    }\n",
       "  },\n",
       "  &quot;description&quot; : &quot;dataframe predictions&quot;,\n",
       "  &quot;data&quot; : {\n",
       "    &quot;url&quot; : &quot;https://vega.github.io/vega-editor/app/data/population.json&quot;\n",
       "  }\n",
       "}\n",
       "   }\n",
       "   vg.embed(&quot;#vegas-ab4645fe-b470-4bf0-8d58-c95f70b8759d&quot;, embedSpec, function(error, result) {});\n",
       " &lt;/script&gt;\n",
       "\n",
       "    &lt;/body&gt;\n",
       "&lt;/html&gt;\"></iframe>\n",
       "  <script>\n",
       "    (function() {\n",
       "      function resizeIFrame(el, k) {\n",
       "        var height = el.contentWindow.document.body.scrollHeight || '400'; // Fallback in case of no scroll height\n",
       "        el.style.height = height + 'px';\n",
       "        if (k <= 10) { setTimeout(function() { resizeIFrame(el, k+1) }, 1000 + (k * 250)) };\n",
       "      }\n",
       "      resizeIFrame(document.querySelector('#frame-vegas-ab4645fe-b470-4bf0-8d58-c95f70b8759d'), 1);\n",
       "    })(); // IIFE\n",
       "  </script>\n",
       "    "
      ]
     },
     "metadata": {},
     "output_type": "display_data"
    }
   ],
   "source": [
    "Vegas(\"dataframe predictions\", width=400, height=300)\n",
    "// .withURL(\"https://raw.githubusercontent.com/prayas2409/Stockpricepython/master/Data/df1.csv\",formatType=DataFormat.Csv)\n",
    " .withURL(\"https://vega.github.io/vega-editor/app/data/population.json\")\n",
    ".mark(Bar)\n",
    ".encodeX(\"year\", Ordinal)\n",
    ".encodeY(\"age\", Quantitative)\n",
    ".show"
   ]
  },
  {
   "cell_type": "code",
   "execution_count": 14,
   "metadata": {},
   "outputs": [
    {
     "data": {
      "text/plain": [
       "\u001b[36mspark\u001b[39m: \u001b[32mSparkSession\u001b[39m = org.apache.spark.sql.SparkSession@7c1de742"
      ]
     },
     "execution_count": 14,
     "metadata": {},
     "output_type": "execute_result"
    }
   ],
   "source": [
    "val spark = SparkSession.builder().appName(\"stockmarkets\").master(\"local[*]\").getOrCreate()"
   ]
  },
  {
   "cell_type": "code",
   "execution_count": 15,
   "metadata": {},
   "outputs": [
    {
     "data": {
      "text/plain": [
       "\u001b[36mdf\u001b[39m: \u001b[32mDataFrame\u001b[39m = [date: string, close: double ... 4 more fields]"
      ]
     },
     "execution_count": 15,
     "metadata": {},
     "output_type": "execute_result"
    }
   ],
   "source": [
    "val df = spark.read.format(\"csv\").options(Map(\"inferSchema\"->\"true\",\"header\" -> \"true\")).load(\"Data/df1.csv\")"
   ]
  },
  {
   "cell_type": "code",
   "execution_count": 16,
   "metadata": {},
   "outputs": [
    {
     "name": "stdout",
     "output_type": "stream",
     "text": [
      "+----------+-------+-------+-------+-------+-------+\n",
      "|      date|  close| volume|   open|   high|    low|\n",
      "+----------+-------+-------+-------+-------+-------+\n",
      "|2019/06/28|1080.91|1693450|1076.39| 1081.0|1073.37|\n",
      "|2019/06/27|1076.01|1004477| 1084.0| 1087.1|1075.29|\n",
      "|2019/06/26| 1079.8|1810869| 1086.5|1092.97|1072.24|\n",
      "|2019/06/25|1086.35|1546913|1112.66|1114.35| 1083.8|\n",
      "|2019/06/24|1115.52|1395696|1119.61| 1122.0|1111.01|\n",
      "+----------+-------+-------+-------+-------+-------+\n",
      "\n"
     ]
    }
   ],
   "source": [
    "df.show()"
   ]
  },
  {
   "cell_type": "code",
   "execution_count": 17,
   "metadata": {},
   "outputs": [
    {
     "name": "stdout",
     "output_type": "stream",
     "text": [
      "root\n",
      " |-- date: string (nullable = true)\n",
      " |-- close: double (nullable = true)\n",
      " |-- volume: integer (nullable = true)\n",
      " |-- open: double (nullable = true)\n",
      " |-- high: double (nullable = true)\n",
      " |-- low: double (nullable = true)\n",
      "\n"
     ]
    }
   ],
   "source": [
    "df.printSchema()"
   ]
  },
  {
   "cell_type": "code",
   "execution_count": 35,
   "metadata": {},
   "outputs": [
    {
     "data": {
      "text/html": [
       "\n",
       "  <iframe id=\"frame-vegas-7ac45e97-3af8-4486-883f-87f1001ff2a7\" sandbox=\"allow-scripts allow-same-origin\" style=\"border: none; width: 100%\" srcdoc=\"&lt;html&gt;\n",
       "  &lt;head&gt;\n",
       "    &lt;script src=&quot;https://cdn.jsdelivr.net/webjars/org.webjars.bower/d3/3.5.17/d3.min.js&quot; charset=&quot;utf-8&quot;&gt;&lt;/script&gt;\n",
       "&lt;script src=&quot;https://cdn.jsdelivr.net/webjars/org.webjars.bower/vega/2.6.3/vega.min.js&quot; charset=&quot;utf-8&quot;&gt;&lt;/script&gt;\n",
       "&lt;script src=&quot;https://cdn.jsdelivr.net/webjars/org.webjars.bower/vega-lite/1.2.0/vega-lite.min.js&quot; charset=&quot;utf-8&quot;&gt;&lt;/script&gt;\n",
       "&lt;script src=&quot;https://vega.github.io/vega-editor/vendor/vega-embed.js&quot; charset=&quot;utf-8&quot;&gt;&lt;/script&gt;\n",
       "  &lt;/head&gt;\n",
       "  &lt;body&gt;\n",
       " &lt;div id='vegas-7ac45e97-3af8-4486-883f-87f1001ff2a7'&gt;&lt;/div&gt;\n",
       " &lt;script&gt;\n",
       "   var embedSpec = {\n",
       "     mode: &quot;vega-lite&quot;,\n",
       "     spec: {\n",
       "  &quot;mark&quot; : &quot;bar&quot;,\n",
       "  &quot;encoding&quot; : {\n",
       "    &quot;x&quot; : {\n",
       "      &quot;field&quot; : &quot;open&quot;,\n",
       "      &quot;type&quot; : &quot;quantitative&quot;\n",
       "    },\n",
       "    &quot;y&quot; : {\n",
       "      &quot;field&quot; : &quot;high&quot;,\n",
       "      &quot;type&quot; : &quot;quantitative&quot;,\n",
       "      &quot;bin&quot; : true\n",
       "    }\n",
       "  },\n",
       "  &quot;description&quot; : &quot;A trellis scatterplot showing Horsepower and Miles per gallons, faceted by binned values of Acceleration.&quot;,\n",
       "  &quot;data&quot; : {\n",
       "    &quot;values&quot; : [\n",
       "      {\n",
       "        &quot;open&quot; : 1076.39,\n",
       "        &quot;low&quot; : 1073.37,\n",
       "        &quot;date&quot; : &quot;2019/06/28&quot;,\n",
       "        &quot;close&quot; : 1080.91,\n",
       "        &quot;volume&quot; : 1693450,\n",
       "        &quot;high&quot; : 1081.0\n",
       "      },\n",
       "      {\n",
       "        &quot;open&quot; : 1084.0,\n",
       "        &quot;low&quot; : 1075.29,\n",
       "        &quot;date&quot; : &quot;2019/06/27&quot;,\n",
       "        &quot;close&quot; : 1076.01,\n",
       "        &quot;volume&quot; : 1004477,\n",
       "        &quot;high&quot; : 1087.1\n",
       "      },\n",
       "      {\n",
       "        &quot;open&quot; : 1086.5,\n",
       "        &quot;low&quot; : 1072.24,\n",
       "        &quot;date&quot; : &quot;2019/06/26&quot;,\n",
       "        &quot;close&quot; : 1079.8,\n",
       "        &quot;volume&quot; : 1810869,\n",
       "        &quot;high&quot; : 1092.97\n",
       "      },\n",
       "      {\n",
       "        &quot;open&quot; : 1112.66,\n",
       "        &quot;low&quot; : 1083.8,\n",
       "        &quot;date&quot; : &quot;2019/06/25&quot;,\n",
       "        &quot;close&quot; : 1086.35,\n",
       "        &quot;volume&quot; : 1546913,\n",
       "        &quot;high&quot; : 1114.35\n",
       "      },\n",
       "      {\n",
       "        &quot;open&quot; : 1119.61,\n",
       "        &quot;low&quot; : 1111.01,\n",
       "        &quot;date&quot; : &quot;2019/06/24&quot;,\n",
       "        &quot;close&quot; : 1115.52,\n",
       "        &quot;volume&quot; : 1395696,\n",
       "        &quot;high&quot; : 1122.0\n",
       "      }\n",
       "    ]\n",
       "  }\n",
       "}\n",
       "   }\n",
       "   vg.embed(&quot;#vegas-7ac45e97-3af8-4486-883f-87f1001ff2a7&quot;, embedSpec, function(error, result) {});\n",
       " &lt;/script&gt;\n",
       "\n",
       "    &lt;/body&gt;\n",
       "&lt;/html&gt;\"></iframe>\n",
       "  <script>\n",
       "    (function() {\n",
       "      function resizeIFrame(el, k) {\n",
       "        var height = el.contentWindow.document.body.scrollHeight || '400'; // Fallback in case of no scroll height\n",
       "        el.style.height = height + 'px';\n",
       "        if (k <= 10) { setTimeout(function() { resizeIFrame(el, k+1) }, 1000 + (k * 250)) };\n",
       "      }\n",
       "      resizeIFrame(document.querySelector('#frame-vegas-7ac45e97-3af8-4486-883f-87f1001ff2a7'), 1);\n",
       "    })(); // IIFE\n",
       "  </script>\n",
       "    "
      ]
     },
     "metadata": {},
     "output_type": "display_data"
    }
   ],
   "source": [
    "Vegas(\"A trellis scatterplot showing Horsepower and Miles per gallons, faceted by binned values of Acceleration.\").\n",
    "  withDataFrame(df:DataFrame).\n",
    "  mark(Bar).\n",
    "  encodeX(\"open\", Quant).\n",
    "  encodeY(\"high\",Quant,enableBin=true).\n",
    "  show"
   ]
  },
  {
   "cell_type": "code",
   "execution_count": 11,
   "metadata": {},
   "outputs": [
    {
     "data": {
      "text/plain": [
       "\u001b[36mPopulation\u001b[39m: \u001b[32mString\u001b[39m = \u001b[32m\"https://vega.github.io/vega-editor/app/data/population.json\"\u001b[39m\n",
       "\u001b[36mCars\u001b[39m: \u001b[32mString\u001b[39m = \u001b[32m\"https://vega.github.io/vega-editor/app/data/cars.json\"\u001b[39m\n",
       "\u001b[36mUnemployment\u001b[39m: \u001b[32mString\u001b[39m = \u001b[32m\"https://vega.github.io/vega-editor/app/data/unemployment-across-industries.json\"\u001b[39m\n",
       "\u001b[36mMovies\u001b[39m: \u001b[32mString\u001b[39m = \u001b[32m\"https://vega.github.io/vega-editor/app/data/movies.json\"\u001b[39m\n",
       "\u001b[36mBarley\u001b[39m: \u001b[32mString\u001b[39m = \u001b[32m\"https://vega.github.io/vega-editor/app/data/barley.json\"\u001b[39m\n",
       "\u001b[36mStocks\u001b[39m: \u001b[32mString\u001b[39m = \u001b[32m\"https://vega.github.io/vega-editor/app/data/stocks.csv\"\u001b[39m\n",
       "\u001b[36mGithub\u001b[39m: \u001b[32mString\u001b[39m = \u001b[32m\"https://vega.github.io/vega-editor/app/data/github.csv\"\u001b[39m\n",
       "\u001b[36mAnscombe\u001b[39m: \u001b[32mString\u001b[39m = \u001b[32m\"https://vega.github.io/vega-editor/app/data/anscombe.json\"\u001b[39m\n",
       "\u001b[36mSeattleWeather\u001b[39m: \u001b[32mString\u001b[39m = \u001b[32m\"https://vega.github.io/vega-editor/app/data/seattle-weather.csv\"\u001b[39m"
      ]
     },
     "execution_count": 11,
     "metadata": {},
     "output_type": "execute_result"
    }
   ],
   "source": [
    "val Population = \"https://vega.github.io/vega-editor/app/data/population.json\"\n",
    "val Cars = \"https://vega.github.io/vega-editor/app/data/cars.json\"\n",
    "val Unemployment = \"https://vega.github.io/vega-editor/app/data/unemployment-across-industries.json\"\n",
    "val Movies = \"https://vega.github.io/vega-editor/app/data/movies.json\"\n",
    "val Barley = \"https://vega.github.io/vega-editor/app/data/barley.json\"\n",
    "val Stocks = \"https://vega.github.io/vega-editor/app/data/stocks.csv\"\n",
    "val Github = \"https://vega.github.io/vega-editor/app/data/github.csv\"\n",
    "val Anscombe = \"https://vega.github.io/vega-editor/app/data/anscombe.json\"\n",
    "val SeattleWeather = \"https://vega.github.io/vega-editor/app/data/seattle-weather.csv\""
   ]
  },
  {
   "cell_type": "code",
   "execution_count": 12,
   "metadata": {},
   "outputs": [
    {
     "data": {
      "text/html": [
       "\n",
       "  <iframe id=\"frame-vegas-1231a883-b425-4f19-931b-dcf1e8da009b\" sandbox=\"allow-scripts allow-same-origin\" style=\"border: none; width: 100%\" srcdoc=\"&lt;html&gt;\n",
       "  &lt;head&gt;\n",
       "    &lt;script src=&quot;https://cdn.jsdelivr.net/webjars/org.webjars.bower/d3/3.5.17/d3.min.js&quot; charset=&quot;utf-8&quot;&gt;&lt;/script&gt;\n",
       "&lt;script src=&quot;https://cdn.jsdelivr.net/webjars/org.webjars.bower/vega/2.6.3/vega.min.js&quot; charset=&quot;utf-8&quot;&gt;&lt;/script&gt;\n",
       "&lt;script src=&quot;https://cdn.jsdelivr.net/webjars/org.webjars.bower/vega-lite/1.2.0/vega-lite.min.js&quot; charset=&quot;utf-8&quot;&gt;&lt;/script&gt;\n",
       "&lt;script src=&quot;https://vega.github.io/vega-editor/vendor/vega-embed.js&quot; charset=&quot;utf-8&quot;&gt;&lt;/script&gt;\n",
       "  &lt;/head&gt;\n",
       "  &lt;body&gt;\n",
       " &lt;div id='vegas-1231a883-b425-4f19-931b-dcf1e8da009b'&gt;&lt;/div&gt;\n",
       " &lt;script&gt;\n",
       "   var embedSpec = {\n",
       "     mode: &quot;vega-lite&quot;,\n",
       "     spec: {\n",
       "  &quot;width&quot; : 800.0,\n",
       "  &quot;height&quot; : 600.0,\n",
       "  &quot;mark&quot; : &quot;point&quot;,\n",
       "  &quot;encoding&quot; : {\n",
       "    &quot;x&quot; : {\n",
       "      &quot;field&quot; : &quot;Horsepower&quot;,\n",
       "      &quot;type&quot; : &quot;quantitative&quot;\n",
       "    },\n",
       "    &quot;y&quot; : {\n",
       "      &quot;field&quot; : &quot;Miles_per_Gallon&quot;,\n",
       "      &quot;type&quot; : &quot;quantitative&quot;\n",
       "    },\n",
       "    &quot;color&quot; : {\n",
       "      &quot;field&quot; : &quot;Acceleration&quot;,\n",
       "      &quot;type&quot; : &quot;quantitative&quot;,\n",
       "      &quot;bin&quot; : {\n",
       "        &quot;maxbins&quot; : 5.0\n",
       "      }\n",
       "    }\n",
       "  },\n",
       "  &quot;description&quot; : &quot;Sample Scatterplot&quot;,\n",
       "  &quot;data&quot; : {\n",
       "    &quot;url&quot; : &quot;https://vega.github.io/vega-editor/app/data/cars.json&quot;\n",
       "  }\n",
       "}\n",
       "   }\n",
       "   vg.embed(&quot;#vegas-1231a883-b425-4f19-931b-dcf1e8da009b&quot;, embedSpec, function(error, result) {});\n",
       " &lt;/script&gt;\n",
       "\n",
       "    &lt;/body&gt;\n",
       "&lt;/html&gt;\"></iframe>\n",
       "  <script>\n",
       "    (function() {\n",
       "      function resizeIFrame(el, k) {\n",
       "        var height = el.contentWindow.document.body.scrollHeight || '400'; // Fallback in case of no scroll height\n",
       "        el.style.height = height + 'px';\n",
       "        if (k <= 10) { setTimeout(function() { resizeIFrame(el, k+1) }, 1000 + (k * 250)) };\n",
       "      }\n",
       "      resizeIFrame(document.querySelector('#frame-vegas-1231a883-b425-4f19-931b-dcf1e8da009b'), 1);\n",
       "    })(); // IIFE\n",
       "  </script>\n",
       "    "
      ]
     },
     "metadata": {},
     "output_type": "display_data"
    }
   ],
   "source": [
    "Vegas(\"Sample Scatterplot\", width=800, height=600)\n",
    "  .withURL(Cars)\n",
    "  .mark(Point)\n",
    "  .encodeX(\"Horsepower\", Quantitative)\n",
    "  .encodeY(\"Miles_per_Gallon\", Quantitative)\n",
    "  .encodeColor(field=\"Acceleration\", dataType=Quantitative, bin=Bin(maxbins=5.0))\n",
    "  .show"
   ]
  },
  {
   "cell_type": "code",
   "execution_count": 46,
   "metadata": {},
   "outputs": [
    {
     "data": {
      "text/html": [
       "\n",
       "  <iframe id=\"frame-vegas-970f9eb2-610b-45ee-95f5-4557b5f764db\" sandbox=\"allow-scripts allow-same-origin\" style=\"border: none; width: 100%\" srcdoc=\"&lt;html&gt;\n",
       "  &lt;head&gt;\n",
       "    &lt;script src=&quot;https://cdn.jsdelivr.net/webjars/org.webjars.bower/d3/3.5.17/d3.min.js&quot; charset=&quot;utf-8&quot;&gt;&lt;/script&gt;\n",
       "&lt;script src=&quot;https://cdn.jsdelivr.net/webjars/org.webjars.bower/vega/2.6.3/vega.min.js&quot; charset=&quot;utf-8&quot;&gt;&lt;/script&gt;\n",
       "&lt;script src=&quot;https://cdn.jsdelivr.net/webjars/org.webjars.bower/vega-lite/1.2.0/vega-lite.min.js&quot; charset=&quot;utf-8&quot;&gt;&lt;/script&gt;\n",
       "&lt;script src=&quot;https://vega.github.io/vega-editor/vendor/vega-embed.js&quot; charset=&quot;utf-8&quot;&gt;&lt;/script&gt;\n",
       "  &lt;/head&gt;\n",
       "  &lt;body&gt;\n",
       " &lt;div id='vegas-970f9eb2-610b-45ee-95f5-4557b5f764db'&gt;&lt;/div&gt;\n",
       " &lt;script&gt;\n",
       "   var embedSpec = {\n",
       "     mode: &quot;vega-lite&quot;,\n",
       "     spec: {\n",
       "  &quot;width&quot; : 800.0,\n",
       "  &quot;height&quot; : 600.0,\n",
       "  &quot;mark&quot; : &quot;point&quot;,\n",
       "  &quot;encoding&quot; : {\n",
       "    &quot;x&quot; : {\n",
       "      &quot;field&quot; : &quot;date&quot;,\n",
       "      &quot;type&quot; : &quot;temporal&quot;,\n",
       "      &quot;bin&quot; : {\n",
       "        &quot;maxbins&quot; : 10.0\n",
       "      }\n",
       "    },\n",
       "    &quot;y&quot; : {\n",
       "      &quot;field&quot; : &quot;price&quot;,\n",
       "      &quot;type&quot; : &quot;quantitative&quot;\n",
       "    },\n",
       "    &quot;color&quot; : {\n",
       "      &quot;legend&quot; : {\n",
       "        &quot;title&quot; : &quot;Stock Companies&quot;,\n",
       "        &quot;orient&quot; : &quot;left&quot;\n",
       "      },\n",
       "      &quot;field&quot; : &quot;symbol&quot;,\n",
       "      &quot;type&quot; : &quot;nominal&quot;\n",
       "    },\n",
       "    &quot;detail&quot; : {\n",
       "      &quot;field&quot; : &quot;symbol&quot;,\n",
       "      &quot;type&quot; : &quot;nominal&quot;\n",
       "    }\n",
       "  },\n",
       "  &quot;description&quot; : &quot;Sample Multi Series Line Chart&quot;,\n",
       "  &quot;data&quot; : {\n",
       "    &quot;format&quot; : {\n",
       "      &quot;type&quot; : &quot;csv&quot;\n",
       "    },\n",
       "    &quot;url&quot; : &quot;https://vega.github.io/vega-editor/app/data/stocks.csv&quot;\n",
       "  }\n",
       "}\n",
       "   }\n",
       "   vg.embed(&quot;#vegas-970f9eb2-610b-45ee-95f5-4557b5f764db&quot;, embedSpec, function(error, result) {});\n",
       " &lt;/script&gt;\n",
       "\n",
       "    &lt;/body&gt;\n",
       "&lt;/html&gt;\"></iframe>\n",
       "  <script>\n",
       "    (function() {\n",
       "      function resizeIFrame(el, k) {\n",
       "        var height = el.contentWindow.document.body.scrollHeight || '400'; // Fallback in case of no scroll height\n",
       "        el.style.height = height + 'px';\n",
       "        if (k <= 10) { setTimeout(function() { resizeIFrame(el, k+1) }, 1000 + (k * 250)) };\n",
       "      }\n",
       "      resizeIFrame(document.querySelector('#frame-vegas-970f9eb2-610b-45ee-95f5-4557b5f764db'), 1);\n",
       "    })(); // IIFE\n",
       "  </script>\n",
       "    "
      ]
     },
     "metadata": {},
     "output_type": "display_data"
    }
   ],
   "source": [
    "Vegas(\"Sample Multi Series Line Chart\", width=800, height=600)\n",
    "    .withURL(Stocks, formatType=DataFormat.Csv)\n",
    "    .mark(Point)\n",
    "    .encodeX(\"date\", Temp,bin=Bin(maxbins=10.0))\n",
    "    .encodeY(\"price\", Quant)\n",
    "    .encodeColor(\n",
    "       field=\"symbol\",\n",
    "       dataType=Nominal,\n",
    "       legend=Legend(orient=\"left\", title=\"Stock Companies\"))\n",
    "    .encodeDetailFields(Field(field=\"symbol\", dataType=Nominal))\n",
    "    .show"
   ]
  },
  {
   "cell_type": "code",
   "execution_count": null,
   "metadata": {},
   "outputs": [],
   "source": []
  }
 ],
 "metadata": {
  "kernelspec": {
   "display_name": "Scala",
   "language": "scala",
   "name": "scala"
  },
  "language_info": {
   "codemirror_mode": "text/x-scala",
   "file_extension": ".scala",
   "mimetype": "text/x-scala",
   "name": "scala",
   "nbconvert_exporter": "script",
   "version": "2.11.12"
  }
 },
 "nbformat": 4,
 "nbformat_minor": 2
}
